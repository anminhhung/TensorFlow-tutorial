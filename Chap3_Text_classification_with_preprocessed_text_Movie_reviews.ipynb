{
  "nbformat": 4,
  "nbformat_minor": 0,
  "metadata": {
    "colab": {
      "name": "Chap3_Text classification with preprocessed text: Movie reviews.ipynb",
      "provenance": [],
      "collapsed_sections": []
    },
    "kernelspec": {
      "name": "python3",
      "display_name": "Python 3"
    },
    "accelerator": "GPU"
  },
  "cells": [
    {
      "cell_type": "markdown",
      "metadata": {
        "id": "hNFUo8E0RvzB",
        "colab_type": "text"
      },
      "source": [
        "This notebook classifies movie reviews as positive or negative using the text of the review. This is an example of binary or two-class classification, an important and widely appicable kind of machine learning problem.  \n",
        "\n",
        "We'll use the [IMDB dataset](https://www.tensorflow.org/datasets/catalog/imdb_reviews) that contains the text of 50,000 movie reviews from the [Internet Movie Database](https://www.imdb.com/). These are split into 25,000 reviews for training and 25,000 reviews for testing. The training and testing sets are balanced, meaning they contain an equal number of positive and negative reviews.  \n",
        "\n",
        "This notebook uses *tf.keras*, a high-level API to build and train models in TensorFlow. For a more advanced text classification tutorial using *tf.keras*, see the [MLCC Text Classification Guide](https://developers.google.com/machine-learning/guides/text-classification/).  "
      ]
    },
    {
      "cell_type": "markdown",
      "metadata": {
        "id": "ET2VXGLgSk3I",
        "colab_type": "text"
      },
      "source": [
        "# Setup"
      ]
    },
    {
      "cell_type": "code",
      "metadata": {
        "id": "2ADc7yq4SmkU",
        "colab_type": "code",
        "outputId": "18f2eba0-a7d7-4503-c51d-74a3bfa4fdf6",
        "colab": {
          "base_uri": "https://localhost:8080/",
          "height": 70
        }
      },
      "source": [
        "!pip3 install -q tf-nightly\n",
        "import tensorflow as tf"
      ],
      "execution_count": 0,
      "outputs": [
        {
          "output_type": "stream",
          "text": [
            "\u001b[K     |████████████████████████████████| 521.9MB 35kB/s \n",
            "\u001b[K     |████████████████████████████████| 3.0MB 33.7MB/s \n",
            "\u001b[K     |████████████████████████████████| 460kB 47.7MB/s \n",
            "\u001b[?25h"
          ],
          "name": "stdout"
        }
      ]
    },
    {
      "cell_type": "code",
      "metadata": {
        "id": "xzgSSwJfZipM",
        "colab_type": "code",
        "outputId": "fda3edbc-db4e-4d4a-cd9a-aa0fcef8aaa1",
        "colab": {
          "base_uri": "https://localhost:8080/",
          "height": 34
        }
      },
      "source": [
        "from tensorflow import keras\n",
        "import tensorflow_datasets as tfds\n",
        "tfds.disable_progress_bar()\n",
        "import numpy as np \n",
        "print(tf.__version__)"
      ],
      "execution_count": 0,
      "outputs": [
        {
          "output_type": "stream",
          "text": [
            "2.2.0-dev20200508\n"
          ],
          "name": "stdout"
        }
      ]
    },
    {
      "cell_type": "markdown",
      "metadata": {
        "id": "Kiork_Ph8Q3u",
        "colab_type": "text"
      },
      "source": [
        "# Download the IMDB dataset"
      ]
    },
    {
      "cell_type": "markdown",
      "metadata": {
        "id": "D75qGa108Tet",
        "colab_type": "text"
      },
      "source": [
        "The IMDB movie reviews dataset comes packaged in [tfds](https://www.tensorflow.org/datasets/api_docs/python/tfds). It has already been preprocessed so that the reviews (sequences of words) have been converted to sequences of integers, where each integer represents a specific word in a dictionary.  \n",
        "\n",
        "The following code downloads the IMDB dataset to your machine (or uses a cached copy if you're already downloaded it).  \n",
        "\n",
        "To encode your own text see the [Loading text tutorial](https://www.tensorflow.org/tutorials/load_data/text)."
      ]
    },
    {
      "cell_type": "code",
      "metadata": {
        "id": "7w2ckJGO87EQ",
        "colab_type": "code",
        "outputId": "1fc924fe-10bc-4c03-abd9-b7dc1b544ab5",
        "colab": {
          "base_uri": "https://localhost:8080/",
          "height": 125
        }
      },
      "source": [
        "(train_data, test_data), info = tfds.load(\n",
        "    # Use the version pre-encoded with an ~8k vocabulary.\n",
        "    'imdb_reviews/subwords8k', \n",
        "    # Return the train/test datasets as a tuple.\n",
        "    split = (tfds.Split.TRAIN, tfds.Split.TEST),\n",
        "    # Return (example, label) pairs from the dataset (instead of a dictionary).\n",
        "    as_supervised=True,\n",
        "    # Also return the `info` structure. \n",
        "    with_info=True\n",
        ")"
      ],
      "execution_count": 0,
      "outputs": [
        {
          "output_type": "stream",
          "text": [
            "\u001b[1mDownloading and preparing dataset imdb_reviews/subwords8k/1.0.0 (download: 80.23 MiB, generated: Unknown size, total: 80.23 MiB) to /root/tensorflow_datasets/imdb_reviews/subwords8k/1.0.0...\u001b[0m\n",
            "Shuffling and writing examples to /root/tensorflow_datasets/imdb_reviews/subwords8k/1.0.0.incompleteR9Y6VD/imdb_reviews-train.tfrecord\n",
            "Shuffling and writing examples to /root/tensorflow_datasets/imdb_reviews/subwords8k/1.0.0.incompleteR9Y6VD/imdb_reviews-test.tfrecord\n",
            "Shuffling and writing examples to /root/tensorflow_datasets/imdb_reviews/subwords8k/1.0.0.incompleteR9Y6VD/imdb_reviews-unsupervised.tfrecord\n",
            "\u001b[1mDataset imdb_reviews downloaded and prepared to /root/tensorflow_datasets/imdb_reviews/subwords8k/1.0.0. Subsequent calls will reuse this data.\u001b[0m\n"
          ],
          "name": "stdout"
        }
      ]
    },
    {
      "cell_type": "markdown",
      "metadata": {
        "id": "9a99_GqJAkv6",
        "colab_type": "text"
      },
      "source": [
        "# Try the encoder"
      ]
    },
    {
      "cell_type": "markdown",
      "metadata": {
        "id": "bi9aNBY1Amcv",
        "colab_type": "text"
      },
      "source": [
        "The dataset *info* includes the text encoder (a [tfds.features.text.SubwordTextEncoder]( https://www.tensorflow.org/datasets/api_docs/python/tfds/features/text/SubwordTextEncoder) )."
      ]
    },
    {
      "cell_type": "code",
      "metadata": {
        "id": "M1dQocwIAzyW",
        "colab_type": "code",
        "colab": {}
      },
      "source": [
        "encoder = info.features['text'].encoder"
      ],
      "execution_count": 0,
      "outputs": []
    },
    {
      "cell_type": "code",
      "metadata": {
        "id": "xMhbvuBNBWDw",
        "colab_type": "code",
        "outputId": "2c05baca-0794-4e78-a7e4-25c9a3a63f2b",
        "colab": {
          "base_uri": "https://localhost:8080/",
          "height": 34
        }
      },
      "source": [
        "print('Vocabulary size: ', encoder.vocab_size)"
      ],
      "execution_count": 0,
      "outputs": [
        {
          "output_type": "stream",
          "text": [
            "Vocabulary size:  8185\n"
          ],
          "name": "stdout"
        }
      ]
    },
    {
      "cell_type": "markdown",
      "metadata": {
        "id": "UplpKDwIBjOG",
        "colab_type": "text"
      },
      "source": [
        "This text encoder will reversibly encode any string"
      ]
    },
    {
      "cell_type": "code",
      "metadata": {
        "id": "vulwEsbrBmIf",
        "colab_type": "code",
        "outputId": "2893af13-c237-490b-dd67-6480d21549d2",
        "colab": {
          "base_uri": "https://localhost:8080/",
          "height": 52
        }
      },
      "source": [
        "sample_string = \"Hello TensorFlow\"\n",
        "encoded_string = encoder.encode(sample_string)\n",
        "print('Encoded string is: ', encoded_string)\n",
        "\n",
        "original_string = encoder.decode(encoded_string)\n",
        "print('The original string: ', original_string)\n",
        "\n",
        "assert original_string == sample_string"
      ],
      "execution_count": 0,
      "outputs": [
        {
          "output_type": "stream",
          "text": [
            "Encoded string is:  [4025, 222, 6307, 2327, 4043, 2120]\n",
            "The original string:  Hello TensorFlow\n"
          ],
          "name": "stdout"
        }
      ]
    },
    {
      "cell_type": "markdown",
      "metadata": {
        "id": "12GYTuTZCFef",
        "colab_type": "text"
      },
      "source": [
        "The encodeer encodes the string by breaking it into subwords or characters if the word is not in its dictionary. So the more a string resembles the dataset, the shorter the encoded representation will be."
      ]
    },
    {
      "cell_type": "code",
      "metadata": {
        "id": "od4tp6kzC8z4",
        "colab_type": "code",
        "outputId": "ea872d6f-2f1c-42b5-a50a-a22183af9ec7",
        "colab": {
          "base_uri": "https://localhost:8080/",
          "height": 123
        }
      },
      "source": [
        "for ts in encoded_string:\n",
        "  print('{}------>{}'.format(ts, encoder.decode([ts])))"
      ],
      "execution_count": 0,
      "outputs": [
        {
          "output_type": "stream",
          "text": [
            "4025------>Hell\n",
            "222------>o \n",
            "6307------>Ten\n",
            "2327------>sor\n",
            "4043------>Fl\n",
            "2120------>ow\n"
          ],
          "name": "stdout"
        }
      ]
    },
    {
      "cell_type": "markdown",
      "metadata": {
        "id": "v7i_yVhfEN65",
        "colab_type": "text"
      },
      "source": [
        "# Explore the data"
      ]
    },
    {
      "cell_type": "markdown",
      "metadata": {
        "id": "A92mHy35EPVk",
        "colab_type": "text"
      },
      "source": [
        "Let's take a moment to understand the format of the data. The dataset comes preprocessed: each example is an array of integers representing the words of the movie review.  \n",
        "\n",
        "The text of reviews have been converted to integers, where each integer represents a specific word-piece in the dictionary.  \n",
        "\n",
        "Each label is an integer value of either 0 or 1, where 0 is a negative review and 1 is a positive review.  \n",
        "\n",
        "Here's what the first review looks like:"
      ]
    },
    {
      "cell_type": "code",
      "metadata": {
        "id": "RHtaqU3bEpCu",
        "colab_type": "code",
        "outputId": "63761c54-1745-42ef-bf2b-ed72b059b3a8",
        "colab": {
          "base_uri": "https://localhost:8080/",
          "height": 52
        }
      },
      "source": [
        "for train_example, train_label in train_data.take(1):\n",
        "  print('Encoded text: ', train_example[:10].numpy())\n",
        "  print('Label:', train_label.numpy())"
      ],
      "execution_count": 0,
      "outputs": [
        {
          "output_type": "stream",
          "text": [
            "Encoded text:  [  62   18   41  604  927   65    3  644 7968   21]\n",
            "Label: 0\n"
          ],
          "name": "stdout"
        }
      ]
    },
    {
      "cell_type": "markdown",
      "metadata": {
        "id": "ut60a7q4GAgs",
        "colab_type": "text"
      },
      "source": [
        "The *info* structure contains the encoder/decoder. The encoder can be used to recover the original text:"
      ]
    },
    {
      "cell_type": "code",
      "metadata": {
        "id": "S9Y3flwgGGiA",
        "colab_type": "code",
        "outputId": "1282d456-ab9f-4e9b-925e-f142fe3bc8cb",
        "colab": {
          "base_uri": "https://localhost:8080/",
          "height": 54
        }
      },
      "source": [
        "encoder.decode(train_example)"
      ],
      "execution_count": 0,
      "outputs": [
        {
          "output_type": "execute_result",
          "data": {
            "text/plain": [
              "\"This was an absolutely terrible movie. Don't be lured in by Christopher Walken or Michael Ironside. Both are great actors, but this must simply be their worst role in history. Even their great acting could not redeem this movie's ridiculous storyline. This movie is an early nineties US propaganda piece. The most pathetic scenes were those when the Columbian rebels were making their cases for revolutions. Maria Conchita Alonso appeared phony, and her pseudo-love affair with Walken was nothing but a pathetic emotional plug in a movie that was devoid of any real meaning. I am disappointed that there are movies like this, ruining actor's like Christopher Walken's good name. I could barely sit through it.\""
            ]
          },
          "metadata": {
            "tags": []
          },
          "execution_count": 11
        }
      ]
    },
    {
      "cell_type": "markdown",
      "metadata": {
        "id": "BNWx1WaZGLLa",
        "colab_type": "text"
      },
      "source": [
        "# Prepare the data for training"
      ]
    },
    {
      "cell_type": "markdown",
      "metadata": {
        "id": "duQZjvRwGNR2",
        "colab_type": "text"
      },
      "source": [
        "You will want to create batches of training data for your model. The reviews are all different lengths, so use *padded_batch* to zero pad the sequences while batching:"
      ]
    },
    {
      "cell_type": "code",
      "metadata": {
        "id": "Khk96Um3MBvW",
        "colab_type": "code",
        "colab": {}
      },
      "source": [
        "BUFFER_SIZE = 1000\n",
        "train_batches = (\n",
        "    train_data.shuffle(BUFFER_SIZE).\\\n",
        "    padded_batch(32, padded_shapes=([None], []))\n",
        ")\n",
        "\n",
        "test_batches = (\n",
        "    test_data.padded_batch(32, padded_shapes=([None], []))\n",
        ")"
      ],
      "execution_count": 0,
      "outputs": []
    },
    {
      "cell_type": "code",
      "metadata": {
        "id": "5U01HQgqMZ61",
        "colab_type": "code",
        "colab": {}
      },
      "source": [
        "train_batches = (\n",
        "    train_data.shuffle(BUFFER_SIZE).padded_batch(32)\n",
        ")\n",
        "\n",
        "test_batches = (\n",
        "    test_data.padded_batch(32)\n",
        ")"
      ],
      "execution_count": 0,
      "outputs": []
    },
    {
      "cell_type": "markdown",
      "metadata": {
        "id": "fkTlGTJ7M3F2",
        "colab_type": "text"
      },
      "source": [
        "Each batch will have a shape of (batch_size, sequence_length) because the padding is dynamic each batch will have a different length:"
      ]
    },
    {
      "cell_type": "code",
      "metadata": {
        "id": "CxmROLQiM-oS",
        "colab_type": "code",
        "outputId": "149ff291-fd6c-4c94-cb95-72ba2f16676e",
        "colab": {
          "base_uri": "https://localhost:8080/",
          "height": 87
        }
      },
      "source": [
        "for example_batch, label_batch in train_batches.take(2):\n",
        "  print(\"Batch shape: \", example_batch.shape)\n",
        "  print(\"label shape: \", label_batch.shape)"
      ],
      "execution_count": 0,
      "outputs": [
        {
          "output_type": "stream",
          "text": [
            "Batch shape:  (32, 1084)\n",
            "label shape:  (32,)\n",
            "Batch shape:  (32, 970)\n",
            "label shape:  (32,)\n"
          ],
          "name": "stdout"
        }
      ]
    },
    {
      "cell_type": "markdown",
      "metadata": {
        "id": "p0ZqFitENKu0",
        "colab_type": "text"
      },
      "source": [
        "# Build the model"
      ]
    },
    {
      "cell_type": "markdown",
      "metadata": {
        "id": "JAIbKVqXNL7b",
        "colab_type": "text"
      },
      "source": [
        "The neural network is created by stacking layers - this requires two main architectural decisions:  \n",
        "* How many layers to use in the model?  \n",
        "* How many hidden units to use for each layer?  \n",
        "\n",
        "In this example, the input data consists of an array of word-indices. The labels to predict are either 0 or 1. Let's build a \"Continuos bag of words\" style model for this problem:  "
      ]
    },
    {
      "cell_type": "code",
      "metadata": {
        "id": "S-FSk5fbNhgN",
        "colab_type": "code",
        "outputId": "5b6b3a27-610c-4a57-e4cc-89aa9379572f",
        "colab": {
          "base_uri": "https://localhost:8080/",
          "height": 265
        }
      },
      "source": [
        "model = keras.Sequential([\n",
        "  keras.layers.Embedding(encoder.vocab_size, 16),\n",
        "  keras.layers.GlobalAveragePooling1D(),\n",
        "  keras.layers.Dense(1)                    \n",
        "])\n",
        "\n",
        "model.summary()"
      ],
      "execution_count": 0,
      "outputs": [
        {
          "output_type": "stream",
          "text": [
            "Model: \"sequential\"\n",
            "_________________________________________________________________\n",
            "Layer (type)                 Output Shape              Param #   \n",
            "=================================================================\n",
            "embedding (Embedding)        (None, None, 16)          130960    \n",
            "_________________________________________________________________\n",
            "global_average_pooling1d (Gl (None, 16)                0         \n",
            "_________________________________________________________________\n",
            "dense (Dense)                (None, 1)                 17        \n",
            "=================================================================\n",
            "Total params: 130,977\n",
            "Trainable params: 130,977\n",
            "Non-trainable params: 0\n",
            "_________________________________________________________________\n"
          ],
          "name": "stdout"
        }
      ]
    },
    {
      "cell_type": "markdown",
      "metadata": {
        "id": "jYQpHwaGOE7U",
        "colab_type": "text"
      },
      "source": [
        "The layers are stacked sequentially to build the classifier:  \n",
        "1. The first layer is an Embedding layer. This layer takes the integer-encoded vocabulary and looks up the embedding vector for each word-index. These vectors are learned as the model trains. The vectors add a dimension to the output array. The resulting dimensions are: (batch, sequence, embedding). To learn more about embeddings, see the [word embedding tutorial](https://www.tensorflow.org/tutorials/text/word_embeddings).  \n",
        "2. Next, a *GlobalAveragePooling1D* layer returns a fixed-length output vector for each example by averaging over the sequence dimension. This allow the model to handle input of variable length, in the simplest way possible.  \n",
        "3. This fixed-length output vector is piped through a fully-connected (Dense) layer with 16 hidden units.  \n",
        "4. The last layer is densely connected with a single output node. Using the *sigmoid* activation function, this value is a float between 0 and 1, representing a probability, or confidence level. For numerical stability, use the *linear* activation function that represents the logits."
      ]
    },
    {
      "cell_type": "markdown",
      "metadata": {
        "id": "Pw53o2AqQVjU",
        "colab_type": "text"
      },
      "source": [
        "# Hidden units"
      ]
    },
    {
      "cell_type": "markdown",
      "metadata": {
        "id": "o6U1b5eJQxPX",
        "colab_type": "text"
      },
      "source": [
        "The above model has two intermediate or \"hidden\" layers, between the input and output. The number of outputs (units, nodes, or neurons) is the dimension of the representational space for the layer. In other words, the amount of freedom the network is allowed when learning an internal representation.  \n",
        "\n",
        "If a model has more hidden units (a higher-dimensional representation space), and/or more layers, then the network can learn more complex representations. However, it makes the network more computationally expensive and may lead to learning unwanted patterns - patterns that imrpove performance on training data but not on the test data. This is called overfitting, and we'll explore it later.  "
      ]
    },
    {
      "cell_type": "markdown",
      "metadata": {
        "id": "sqYgSGHRRsi5",
        "colab_type": "text"
      },
      "source": [
        "# Loss function and optimizer"
      ]
    },
    {
      "cell_type": "markdown",
      "metadata": {
        "id": "d3czsi57SR3R",
        "colab_type": "text"
      },
      "source": [
        "A model needs a loss function and an optimizer for training. Since this is a binary classification problem and the model outputs a probability (a single-unit layer with a sigmoid activation), we'll use the binary_crossentropy loss function.  \n",
        "\n",
        "This isn't the only choice for a loss function, you could, for instance, choose *mean_squared_error*. But, generally, *binary_crossentropy* is better for dealing with probabilities - it measures the \"distance\" between probability distributions or in our case, between the ground-truth distribution and the predictions.  \n",
        "\n",
        "Later, when we are exploring regression problems (say, to predict the price of a house), we will see how to use another loss function called mean squared error.  \n",
        "\n",
        "Now, configure the model to use an optimizer and a loss function:"
      ]
    },
    {
      "cell_type": "code",
      "metadata": {
        "id": "RhfWbo7dTFgl",
        "colab_type": "code",
        "colab": {}
      },
      "source": [
        "model.compile(optimizer='adam',\n",
        "              loss=tf.losses.BinaryCrossentropy(from_logits=True),\n",
        "              metrics=['accuracy'])"
      ],
      "execution_count": 0,
      "outputs": []
    },
    {
      "cell_type": "markdown",
      "metadata": {
        "id": "5BxQZgiIToJj",
        "colab_type": "text"
      },
      "source": [
        "# Train the model"
      ]
    },
    {
      "cell_type": "markdown",
      "metadata": {
        "id": "MuxJJ6h2Tpbb",
        "colab_type": "text"
      },
      "source": [
        "Train the model by passing the *Dataset* object to the model's fit function. Set the number of epochs."
      ]
    },
    {
      "cell_type": "code",
      "metadata": {
        "id": "Mbt1DVZsTvC9",
        "colab_type": "code",
        "outputId": "399d8c7a-db64-43c7-b6ce-3286a22cc975",
        "colab": {
          "base_uri": "https://localhost:8080/",
          "height": 392
        }
      },
      "source": [
        "history = model.fit(train_batches, \n",
        "                    epochs = 10,\n",
        "                    validation_data = test_batches,\n",
        "                    validation_steps=30)"
      ],
      "execution_count": 0,
      "outputs": [
        {
          "output_type": "stream",
          "text": [
            "Epoch 1/10\n",
            "782/782 [==============================] - 8s 10ms/step - loss: 0.6826 - accuracy: 0.5006 - val_loss: 0.6663 - val_accuracy: 0.5063\n",
            "Epoch 2/10\n",
            "782/782 [==============================] - 8s 10ms/step - loss: 0.6232 - accuracy: 0.5510 - val_loss: 0.5969 - val_accuracy: 0.5885\n",
            "Epoch 3/10\n",
            "782/782 [==============================] - 8s 10ms/step - loss: 0.5460 - accuracy: 0.6589 - val_loss: 0.5352 - val_accuracy: 0.6979\n",
            "Epoch 4/10\n",
            "782/782 [==============================] - 8s 10ms/step - loss: 0.4779 - accuracy: 0.7488 - val_loss: 0.4850 - val_accuracy: 0.7521\n",
            "Epoch 5/10\n",
            "782/782 [==============================] - 8s 10ms/step - loss: 0.4256 - accuracy: 0.7977 - val_loss: 0.4469 - val_accuracy: 0.8052\n",
            "Epoch 6/10\n",
            "782/782 [==============================] - 8s 10ms/step - loss: 0.3845 - accuracy: 0.8288 - val_loss: 0.4192 - val_accuracy: 0.8323\n",
            "Epoch 7/10\n",
            "782/782 [==============================] - 8s 10ms/step - loss: 0.3513 - accuracy: 0.8530 - val_loss: 0.3983 - val_accuracy: 0.8500\n",
            "Epoch 8/10\n",
            "782/782 [==============================] - 8s 10ms/step - loss: 0.3260 - accuracy: 0.8670 - val_loss: 0.3831 - val_accuracy: 0.8458\n",
            "Epoch 9/10\n",
            "782/782 [==============================] - 8s 10ms/step - loss: 0.3063 - accuracy: 0.8778 - val_loss: 0.3710 - val_accuracy: 0.8562\n",
            "Epoch 10/10\n",
            "782/782 [==============================] - 8s 10ms/step - loss: 0.2883 - accuracy: 0.8851 - val_loss: 0.3642 - val_accuracy: 0.8687\n"
          ],
          "name": "stdout"
        }
      ]
    },
    {
      "cell_type": "markdown",
      "metadata": {
        "id": "WyA0nushVB68",
        "colab_type": "text"
      },
      "source": [
        "# Evaluate the model"
      ]
    },
    {
      "cell_type": "markdown",
      "metadata": {
        "id": "nk5ogsJLVDO0",
        "colab_type": "text"
      },
      "source": [
        "And let's see how the model performs. Two values will be returned. Loss (a number which represents our error, lower values are better) and accuracy."
      ]
    },
    {
      "cell_type": "code",
      "metadata": {
        "id": "b_RaYhLaVPna",
        "colab_type": "code",
        "outputId": "71ff1628-1c49-401b-973a-f1df1642eafd",
        "colab": {
          "base_uri": "https://localhost:8080/",
          "height": 90
        }
      },
      "source": [
        "loss, accuracy = model.evaluate(test_batches)\n",
        "\n",
        "print(\"Loss: \", loss)\n",
        "print(\"Accuracy: \",accuracy)"
      ],
      "execution_count": 0,
      "outputs": [
        {
          "output_type": "stream",
          "text": [
            "782/782 [==============================] - 4s 6ms/step - loss: 0.3374 - accuracy: 0.8721\n",
            "Loss:  0.33741500973701477\n",
            "Accuracy:  0.8721200227737427\n"
          ],
          "name": "stdout"
        }
      ]
    },
    {
      "cell_type": "markdown",
      "metadata": {
        "id": "CLGNGa1sViPo",
        "colab_type": "text"
      },
      "source": [
        "This fairly naive approach achieves an accuracy of about 87%. With more advanced approaches, the model should get closer to 95%."
      ]
    },
    {
      "cell_type": "markdown",
      "metadata": {
        "id": "RGU1Vt_CVqVu",
        "colab_type": "text"
      },
      "source": [
        "# Create a graph of accuracy and loss over time"
      ]
    },
    {
      "cell_type": "markdown",
      "metadata": {
        "id": "tBXooD3uVtTX",
        "colab_type": "text"
      },
      "source": [
        "*model.fit()* returns a *History* object that contains a dictionary with everything that happened during training:"
      ]
    },
    {
      "cell_type": "code",
      "metadata": {
        "id": "pwONe0NtV0SM",
        "colab_type": "code",
        "outputId": "8d86a93d-84c7-4bc0-8ec2-58249471d4e9",
        "colab": {
          "base_uri": "https://localhost:8080/",
          "height": 34
        }
      },
      "source": [
        "history_dict = history.history\n",
        "history_dict.keys()"
      ],
      "execution_count": 0,
      "outputs": [
        {
          "output_type": "execute_result",
          "data": {
            "text/plain": [
              "dict_keys(['loss', 'accuracy', 'val_loss', 'val_accuracy'])"
            ]
          },
          "metadata": {
            "tags": []
          },
          "execution_count": 20
        }
      ]
    },
    {
      "cell_type": "markdown",
      "metadata": {
        "id": "cq5VthPMV461",
        "colab_type": "text"
      },
      "source": [
        "There are four entries: one for each monitored metric during training and validation. We can use these to plot the training and validation loss for comparision, as well as the training and validation accuracy:"
      ]
    },
    {
      "cell_type": "code",
      "metadata": {
        "id": "VUEj0pbPWHF1",
        "colab_type": "code",
        "outputId": "78e34dda-ba44-4d30-a094-b703771e372c",
        "colab": {
          "base_uri": "https://localhost:8080/",
          "height": 294
        }
      },
      "source": [
        "import matplotlib.pyplot as plt \n",
        "\n",
        "acc = history_dict['accuracy']\n",
        "val_acc = history_dict['val_accuracy']\n",
        "loss = history_dict['loss']\n",
        "val_loss = history_dict['val_loss']\n",
        "\n",
        "epochs = range(1, len(acc)+1)\n",
        "\n",
        "# 'bo' is for 'blue dot'\n",
        "plt.plot(epochs, loss, 'bo', label='Training loss')\n",
        "# b is for \"solid blue line\"\n",
        "plt.plot(epochs, val_loss, \"b\", label=\"Validation loss\")\n",
        "plt.title('Training and validation loss')\n",
        "plt.xlabel('Epochs')\n",
        "plt.ylabel('Loss')\n",
        "plt.legend()\n",
        "\n",
        "plt.show()"
      ],
      "execution_count": 0,
      "outputs": [
        {
          "output_type": "display_data",
          "data": {
            "image/png": "[encoded data removed]",
            "text/plain": [
              "<Figure size 432x288 with 1 Axes>"
            ]
          },
          "metadata": {
            "tags": [],
            "needs_background": "light"
          }
        }
      ]
    },
    {
      "cell_type": "code",
      "metadata": {
        "id": "XX_HIF5xW3Wf",
        "colab_type": "code",
        "outputId": "e39cb0f0-ca5e-4d2d-fc48-258a37b2da18",
        "colab": {
          "base_uri": "https://localhost:8080/",
          "height": 294
        }
      },
      "source": [
        "plt.clf() # clear figure\n",
        "\n",
        "plt.plot(epochs, acc, 'bo', label='Training acc')\n",
        "plt.plot(epochs, val_acc, 'b', label='Validation acc')\n",
        "plt.title('Training and validation accuracy')\n",
        "plt.xlabel('Epochs')\n",
        "plt.ylabel('Accuracy')\n",
        "plt.legend(loc='lower right')\n",
        "\n",
        "plt.show()"
      ],
      "execution_count": 0,
      "outputs": [
        {
          "output_type": "display_data",
          "data": {
            "image/png": "[encoded data removed]",
            "text/plain": [
              "<Figure size 432x288 with 1 Axes>"
            ]
          },
          "metadata": {
            "tags": [],
            "needs_background": "light"
          }
        }
      ]
    }
  ]
}