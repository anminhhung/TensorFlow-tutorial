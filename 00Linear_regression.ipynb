{
 "cells": [
  {
   "cell_type": "markdown",
   "metadata": {},
   "source": [
    "# Linear Regression Example"
   ]
  },
  {
   "cell_type": "code",
   "execution_count": 4,
   "metadata": {},
   "outputs": [],
   "source": [
    "import tensorflow as tf\n",
    "import numpy as np"
   ]
  },
  {
   "cell_type": "code",
   "execution_count": 6,
   "metadata": {},
   "outputs": [],
   "source": [
    "# Parameters\n",
    "learning_rate = 0.01\n",
    "training_steps = 1000\n",
    "display_step = 50"
   ]
  },
  {
   "cell_type": "code",
   "execution_count": 7,
   "metadata": {},
   "outputs": [],
   "source": [
    "# Training Data.\n",
    "X = np.array([3.3,4.4,5.5,6.71,6.93,4.168,9.779,6.182,7.59,2.167,\n",
    "              7.042,10.791,5.313,7.997,5.654,9.27,3.1])\n",
    "Y = np.array([1.7,2.76,2.09,3.19,1.694,1.573,3.366,2.596,2.53,1.221,\n",
    "              2.827,3.465,1.65,2.904,2.42,2.94,1.3])"
   ]
  },
  {
   "cell_type": "code",
   "execution_count": 8,
   "metadata": {},
   "outputs": [],
   "source": [
    "# Weight and Bias, initialized randomly\n",
    "W = tf.Variable(np.random.randn(), name='weight')\n",
    "b = tf.Variable(np.random.rand(), name='bias')"
   ]
  },
  {
   "cell_type": "code",
   "execution_count": 9,
   "metadata": {},
   "outputs": [],
   "source": [
    "# Linear regression (Wx + b)\n",
    "def linear_regression(x):\n",
    "    return W * x + b"
   ]
  },
  {
   "cell_type": "code",
   "execution_count": 10,
   "metadata": {},
   "outputs": [],
   "source": [
    "# Mean square error\n",
    "def mean_square(y_pred, y_true):\n",
    "    return tf.reduce_mean(tf.square(y_pred - y_true))"
   ]
  },
  {
   "cell_type": "code",
   "execution_count": 11,
   "metadata": {},
   "outputs": [],
   "source": [
    "# Stochastic Gradient Descent Optimizer\n",
    "optimizer = tf.optimizers.SGD(learning_rate)"
   ]
  },
  {
   "cell_type": "code",
   "execution_count": 12,
   "metadata": {},
   "outputs": [],
   "source": [
    "# Optiomization process\n",
    "def run_optimization():\n",
    "    # Wrap computation inside a GradientTape for automatic differentation\n",
    "    with tf.GradientTape() as g:\n",
    "        pred = linear_regression(X)\n",
    "        loss = mean_square(pred, Y)\n",
    "        \n",
    "    # compute gradient\n",
    "    gradients = g.gradient(loss, [W, b])\n",
    "    \n",
    "    # Update W and b following gradients\n",
    "    optimizer.apply_gradients(zip(gradients, [W, b]))"
   ]
  },
  {
   "cell_type": "code",
   "execution_count": 13,
   "metadata": {},
   "outputs": [
    {
     "name": "stdout",
     "output_type": "stream",
     "text": [
      "step: 50, loss: 0.15457437932491302, W: 0.26236727833747864, b: 0.7227136492729187\n",
      "step: 100, loss: 0.15441973507404327, W: 0.2611391246318817, b: 0.7314208149909973\n",
      "step: 150, loss: 0.15429849922657013, W: 0.26005151867866516, b: 0.7391313910484314\n",
      "step: 200, loss: 0.15420332551002502, W: 0.2590883672237396, b: 0.7459597587585449\n",
      "step: 250, loss: 0.15412871539592743, W: 0.2582354247570038, b: 0.7520067095756531\n",
      "step: 300, loss: 0.15407028794288635, W: 0.25748011469841003, b: 0.757361650466919\n",
      "step: 350, loss: 0.1540243923664093, W: 0.2568112015724182, b: 0.7621037364006042\n",
      "step: 400, loss: 0.15398840606212616, W: 0.2562188506126404, b: 0.766303300857544\n",
      "step: 450, loss: 0.153960183262825, W: 0.2556942403316498, b: 0.7700226306915283\n",
      "step: 500, loss: 0.15393806993961334, W: 0.2552297115325928, b: 0.773315966129303\n",
      "step: 550, loss: 0.1539207398891449, W: 0.254818320274353, b: 0.7762323617935181\n",
      "step: 600, loss: 0.15390713512897491, W: 0.2544540762901306, b: 0.7788149118423462\n",
      "step: 650, loss: 0.15389646589756012, W: 0.2541314363479614, b: 0.7811020612716675\n",
      "step: 700, loss: 0.15388809144496918, W: 0.253845751285553, b: 0.78312748670578\n",
      "step: 750, loss: 0.1538815200328827, W: 0.25359275937080383, b: 0.7849211692810059\n",
      "step: 800, loss: 0.1538763791322708, W: 0.25336870551109314, b: 0.7865095138549805\n",
      "step: 850, loss: 0.15387237071990967, W: 0.25317031145095825, b: 0.7879161238670349\n",
      "step: 900, loss: 0.15386921167373657, W: 0.2529946565628052, b: 0.7891614437103271\n",
      "step: 950, loss: 0.1538666933774948, W: 0.252839058637619, b: 0.7902646660804749\n",
      "step: 1000, loss: 0.1538647562265396, W: 0.2527012526988983, b: 0.7912415862083435\n"
     ]
    }
   ],
   "source": [
    "# Run training for the given number of steps\n",
    "for step in range(1, training_steps + 1):\n",
    "    # Run the optimization to update W and b values\n",
    "    run_optimization()\n",
    "    if step % display_step == 0:\n",
    "        pred = linear_regression(X)\n",
    "        loss = mean_square(pred, Y)\n",
    "        print(\"step: {}, loss: {}, W: {}, b: {}\".format(\n",
    "                step, loss, W.numpy(), b.numpy()))"
   ]
  },
  {
   "cell_type": "code",
   "execution_count": 14,
   "metadata": {},
   "outputs": [],
   "source": [
    "import matplotlib.pyplot as plt"
   ]
  },
  {
   "cell_type": "code",
   "execution_count": 15,
   "metadata": {},
   "outputs": [
    {
     "data": {
      "image/png": "[encoded data removed]",
      "text/plain": [
       "<Figure size 432x288 with 1 Axes>"
      ]
     },
     "metadata": {
      "needs_background": "light"
     },
     "output_type": "display_data"
    }
   ],
   "source": [
    "# Graphic display\n",
    "plt.plot(X, Y, 'ro', label='Original data')\n",
    "plt.plot(X, np.array(W * X + b), label='Fitted line')\n",
    "plt.legend()\n",
    "plt.show()"
   ]
  }
 ],
 "metadata": {
  "kernelspec": {
   "display_name": "Python 3.7.7 64-bit",
   "language": "python",
   "name": "python37764bit900b9dfa7ac9488c987dd6978023437d"
  },
  "language_info": {
   "codemirror_mode": {
    "name": "ipython",
    "version": 3
   },
   "file_extension": ".py",
   "mimetype": "text/x-python",
   "name": "python",
   "nbconvert_exporter": "python",
   "pygments_lexer": "ipython3",
   "version": "3.7.7"
  }
 },
 "nbformat": 4,
 "nbformat_minor": 4
}
